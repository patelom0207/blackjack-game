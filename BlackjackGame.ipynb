{
  "nbformat": 4,
  "nbformat_minor": 0,
  "metadata": {
    "colab": {
      "provenance": []
    },
    "kernelspec": {
      "name": "python3",
      "display_name": "Python 3"
    },
    "language_info": {
      "name": "python"
    }
  },
  "cells": [
    {
      "cell_type": "markdown",
      "source": [
        "# **Blackjack Game**"
      ],
      "metadata": {
        "id": "w-3ZgNzVmPoQ"
      }
    },
    {
      "cell_type": "markdown",
      "source": [
        "# Imports"
      ],
      "metadata": {
        "id": "KrOn-XZSmT9M"
      }
    },
    {
      "cell_type": "code",
      "execution_count": 14,
      "metadata": {
        "id": "wtU2ikB5lTS9"
      },
      "outputs": [],
      "source": [
        "from random import randint\n",
        "import time\n",
        "from IPython.display import clear_output"
      ]
    },
    {
      "cell_type": "markdown",
      "source": [
        "# Card Class"
      ],
      "metadata": {
        "id": "basx9nmBl1os"
      }
    },
    {
      "cell_type": "code",
      "source": [
        "# -------- Card class --------\n",
        "class Card:\n",
        "  #Assign class PRIVATE instance variables called suit, rank, pointVal\n",
        "  def __init__(self, cardRank, cardSuit, cardPointVal):\n",
        "    self.rank = cardRank\n",
        "    self.suit = cardSuit\n",
        "    self.pointVal = cardPointVal\n",
        "\n",
        "  #Accessor method getSuit - returns the private instance variable suit\n",
        "  def getSuit(self):\n",
        "    return self.suit\n",
        "\n",
        "  #Accessor method getRank - returns the private instance variable rank\n",
        "  def getRank(self):\n",
        "    return self.rank\n",
        "\n",
        "  #Accessor method getPointVal - returns the private instance variable pointVal\n",
        "  def getPointVal(self):\n",
        "    return self.pointVal"
      ],
      "metadata": {
        "id": "-thMLQwDlt37"
      },
      "execution_count": 15,
      "outputs": []
    },
    {
      "cell_type": "markdown",
      "source": [
        "# Deck Class"
      ],
      "metadata": {
        "id": "My3sOYRimEhj"
      }
    },
    {
      "cell_type": "code",
      "source": [
        "# -------- Deck class ---------\n",
        "class Deck:\n",
        "  #Add all cards combinations to cards list\n",
        "  def __init__(self, ranks, suits, values):\n",
        "    self.cards = []\n",
        "    for rank, value in zip(ranks, values):\n",
        "      for suit in suits:\n",
        "        self.cards.append(Card(rank, suit, value))\n",
        "\n",
        "  #Accessor method getCards - returns the private instance variable list cards\n",
        "  def getCards(self):\n",
        "    return self.cards\n",
        "\n",
        "  #Accessor method getCard - returns the private instance variable cards[index]\n",
        "  def getCard(self, index):\n",
        "    return self.cards[index]\n",
        "\n",
        "  #Modifier method setCard - replaces a card at a specified index\n",
        "  def setCard(self, index, myCard):\n",
        "    self.cards[index] = myCard\n",
        "\n",
        "  def perfectShuffle(self):\n",
        "    shuffDeckPerf = [None] * len(self.getCards())\n",
        "    index = 0\n",
        "    midpoint = len(self.getCards()) // 2\n",
        "\n",
        "    for i in range(midpoint):\n",
        "      shuffDeckPerf[index] = self.getCard(i)\n",
        "      index += 2\n",
        "\n",
        "    index = 1\n",
        "    for i in range(midpoint, len(self.getCards())):\n",
        "      shuffDeckPerf[index] = self.getCard(i)\n",
        "      index += 2\n",
        "\n",
        "    for i, card in enumerate(shuffDeckPerf):\n",
        "      self.setCard(i, card)\n",
        "\n",
        "  def randomShuffle(self):\n",
        "    numShuffles = int(input(\"How many shuffles do you want to perform? \"))\n",
        "    for _ in range(numShuffles):\n",
        "      for j in range(len(self.getCards()) - 1, 0, -1):\n",
        "        k = randint(0, j)\n",
        "        temp = self.getCard(j)\n",
        "        self.setCard(j, self.getCard(k))\n",
        "        self.setCard(k, temp)"
      ],
      "metadata": {
        "id": "O5S8SHP8mCMl"
      },
      "execution_count": 16,
      "outputs": []
    },
    {
      "cell_type": "markdown",
      "source": [
        "# Player Class"
      ],
      "metadata": {
        "id": "MakRqFAamLj1"
      }
    },
    {
      "cell_type": "code",
      "source": [
        "# -------- Player class --------\n",
        "class Player:\n",
        "  def __init__(self, name):\n",
        "    self.name = name\n",
        "    self.hand = []\n",
        "    self.points = 0\n",
        "\n",
        "  def addCard(self, card):\n",
        "    self.hand.append(card)\n",
        "\n",
        "  def getPoints(self):\n",
        "    self.points = 0\n",
        "    aces = 0\n",
        "    for card in self.hand:\n",
        "      self.points += card.getPointVal()\n",
        "      if card.getRank() == 'ace':\n",
        "        aces += 1\n",
        "    while self.points > 21 and aces > 0:\n",
        "      self.points -= 10\n",
        "      aces -= 1\n",
        "    return self.points"
      ],
      "metadata": {
        "id": "SM0fp-UomkVu"
      },
      "execution_count": 17,
      "outputs": []
    },
    {
      "cell_type": "markdown",
      "source": [
        "# Game Class"
      ],
      "metadata": {
        "id": "2mqoR8c3mldN"
      }
    },
    {
      "cell_type": "code",
      "source": [
        "# -------- Game class --------\n",
        "class Blackjack:\n",
        "  def __init__(self):\n",
        "    self.deck = Deck(\n",
        "        ranks=['ace', '2', '3', '4', '5', '6', '7', '8', '9', '10', 'jack', 'queen', 'king'],\n",
        "        suits=['hearts', 'diamonds', 'clubs', 'spades'],\n",
        "        values=[11, 2, 3, 4, 5, 6, 7, 8, 9, 10, 10, 10, 10]\n",
        "    )\n",
        "    self.dealer = Player(\"Dealer\")\n",
        "    self.player = Player(\"Player\")\n",
        "\n",
        "  def deal(self):\n",
        "    for _ in range(2):\n",
        "      self.dealer.addCard(self.deck.getCards().pop(0))\n",
        "      self.player.addCard(self.deck.getCards().pop(0))\n",
        "\n",
        "  def playerTurn(self):\n",
        "    while True:\n",
        "      print(f\"Your hand: {[(card.getRank(), card.getSuit()) for card in self.player.hand]}\")\n",
        "      print(f\"Your points: {self.player.getPoints()}\")\n",
        "      action = input(\"Do you want to 'hit' or 'stay'? \").lower()\n",
        "      if action == \"hit\":\n",
        "        self.player.addCard(self.deck.getCards().pop(0))\n",
        "        if self.player.getPoints() > 21:\n",
        "          print(\"You busted!\")\n",
        "          return False\n",
        "      elif action == \"stay\":\n",
        "        return True\n",
        "      else:\n",
        "        print(\"Invalid action. Please type 'hit' or 'stay'.\")\n",
        "\n",
        "  def dealerTurn(self):\n",
        "    while self.dealer.getPoints() < 16:\n",
        "      self.dealer.addCard(self.deck.getCards().pop(0))\n",
        "      time.sleep(0.5)\n",
        "\n",
        "  def determineWinner(self):\n",
        "    playerTotal = self.player.getPoints()\n",
        "    dealerTotal = self.dealer.getPoints()\n",
        "\n",
        "    print(\"Final Hands:\")\n",
        "    print(f\"Your Hand: {[(card.getRank(), card.getSuit()) for card in self.player.hand]}, Points: {playerTotal}\")\n",
        "    print(f\"Dealer's Hand: {[(card.getRank(), card.getSuit()) for card in self.dealer.hand]}, Points: {dealerTotal}\")\n",
        "\n",
        "    if playerTotal > 21:\n",
        "      print(\"Dealer wins! You busted.\")\n",
        "    elif dealerTotal > 21 or playerTotal > dealerTotal:\n",
        "      print(\"You win!\")\n",
        "    elif playerTotal == dealerTotal:\n",
        "      print(\"It's a tie!\")\n",
        "    elif playerTotal == 21 and len(self.player.hand) == 2:\n",
        "      print(\"Player wins! Blackjack!\")\n",
        "    elif dealerTotal == 21 and len(self.dealer.hand) == 2:\n",
        "      print(\"Dealer wins! Blackjack!\")\n",
        "    elif playerTotal < dealerTotal:\n",
        "      print(\"Dealer wins!\")\n",
        "    else:\n",
        "      print(\"Dealer wins!\")"
      ],
      "metadata": {
        "id": "-LHbmb5VmsAN"
      },
      "execution_count": 18,
      "outputs": []
    },
    {
      "cell_type": "markdown",
      "source": [
        "# Main Function"
      ],
      "metadata": {
        "id": "XBn4BoVnmvcd"
      }
    },
    {
      "cell_type": "code",
      "source": [
        "# Main function to play blackjack\n",
        "def playBlackjack():\n",
        "  game = Blackjack()\n",
        "  while True:\n",
        "    game.deck.randomShuffle()\n",
        "    game.deal()\n",
        "\n",
        "    if not game.playerTurn():\n",
        "      game.determineWinner()\n",
        "    else:\n",
        "      game.dealerTurn()\n",
        "      game.determineWinner()\n",
        "\n",
        "    playAgain = input(\"Do you want to play again (yes or no)? \").lower()\n",
        "    if playAgain != \"yes\":\n",
        "      break\n",
        "    clear_output()\n",
        "\n",
        "    game.player.hand.clear()\n",
        "    game.dealer.hand.clear()\n",
        "    game.deck = Deck(\n",
        "        ranks=['ace', '2', '3', '4', '5', '6', '7', '8', '9', '10', 'jack', 'queen', 'king'],\n",
        "        suits=['hearts', 'diamonds', 'clubs', 'spades'],\n",
        "        values=[11, 2, 3, 4, 5, 6, 7, 8, 9, 10, 10, 10, 10]\n",
        "    )\n",
        "\n",
        "playBlackjack()"
      ],
      "metadata": {
        "id": "MNV75xCNm1a2"
      },
      "execution_count": null,
      "outputs": []
    }
  ]
}